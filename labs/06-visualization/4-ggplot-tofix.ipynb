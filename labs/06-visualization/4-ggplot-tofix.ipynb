{
 "cells": [
  {
   "cell_type": "markdown",
   "metadata": {},
   "source": [
    "\n",
    "4-ggplot\n",
    "============\n",
    "\n",
    "### Overview\n",
    "- Learn ggplot library\n",
    "\n",
    "### Depends On\n",
    "None\n",
    "\n",
    "### Run time\n",
    "10-15 mins\n",
    "\n",
    "### Working directory\n",
    "03-visualization\n",
    "\n",
    "**=> Make sure you have ggplot package installed **"
   ]
  },
  {
   "cell_type": "code",
   "execution_count": 1,
   "metadata": {
    "scrolled": true
   },
   "outputs": [
    {
     "ename": "AttributeError",
     "evalue": "module 'pandas' has no attribute 'tslib'",
     "output_type": "error",
     "traceback": [
      "\u001b[0;31m---------------------------------------------------------------------------\u001b[0m",
      "\u001b[0;31mAttributeError\u001b[0m                            Traceback (most recent call last)",
      "Cell \u001b[0;32mIn[1], line 8\u001b[0m\n\u001b[1;32m      6\u001b[0m get_ipython()\u001b[38;5;241m.\u001b[39mrun_line_magic(\u001b[38;5;124m'\u001b[39m\u001b[38;5;124mmatplotlib\u001b[39m\u001b[38;5;124m'\u001b[39m, \u001b[38;5;124m'\u001b[39m\u001b[38;5;124minline\u001b[39m\u001b[38;5;124m'\u001b[39m)\n\u001b[1;32m      7\u001b[0m \u001b[38;5;28;01mimport\u001b[39;00m \u001b[38;5;21;01mpandas\u001b[39;00m \u001b[38;5;28;01mas\u001b[39;00m \u001b[38;5;21;01mpd\u001b[39;00m\n\u001b[0;32m----> 8\u001b[0m \u001b[38;5;28;01mfrom\u001b[39;00m \u001b[38;5;21;01mggplot\u001b[39;00m \u001b[38;5;28;01mimport\u001b[39;00m \u001b[38;5;241m*\u001b[39m\n",
      "File \u001b[0;32m~/anaconda3/lib/python3.11/site-packages/ggplot/__init__.py:19\u001b[0m\n\u001b[1;32m     14\u001b[0m         mpl\u001b[38;5;241m.\u001b[39muse(env_backend)\n\u001b[1;32m     16\u001b[0m _set_mpl_backend()\n\u001b[0;32m---> 19\u001b[0m \u001b[38;5;28;01mfrom\u001b[39;00m \u001b[38;5;21;01m.\u001b[39;00m\u001b[38;5;21;01mgeoms\u001b[39;00m \u001b[38;5;28;01mimport\u001b[39;00m geom_area, geom_blank, geom_boxplot, geom_line, geom_point, geom_jitter, geom_histogram, geom_density, geom_hline, geom_vline, geom_bar, geom_abline, geom_tile, geom_rect, geom_bin2d, geom_step, geom_text, geom_path, geom_ribbon, geom_now_its_art, geom_violin, geom_errorbar, geom_polygon\n\u001b[1;32m     20\u001b[0m \u001b[38;5;28;01mfrom\u001b[39;00m \u001b[38;5;21;01m.\u001b[39;00m\u001b[38;5;21;01mstats\u001b[39;00m \u001b[38;5;28;01mimport\u001b[39;00m stat_smooth, stat_density\n\u001b[1;32m     22\u001b[0m \u001b[38;5;28;01mfrom\u001b[39;00m \u001b[38;5;21;01m.\u001b[39;00m\u001b[38;5;21;01mfacets\u001b[39;00m \u001b[38;5;28;01mimport\u001b[39;00m facet_wrap, facet_grid, Facet\n",
      "File \u001b[0;32m~/anaconda3/lib/python3.11/site-packages/ggplot/geoms/__init__.py:1\u001b[0m\n\u001b[0;32m----> 1\u001b[0m \u001b[38;5;28;01mfrom\u001b[39;00m \u001b[38;5;21;01m.\u001b[39;00m\u001b[38;5;21;01mgeom_abline\u001b[39;00m \u001b[38;5;28;01mimport\u001b[39;00m geom_abline\n\u001b[1;32m      2\u001b[0m \u001b[38;5;28;01mfrom\u001b[39;00m \u001b[38;5;21;01m.\u001b[39;00m\u001b[38;5;21;01mgeom_area\u001b[39;00m \u001b[38;5;28;01mimport\u001b[39;00m geom_area\n\u001b[1;32m      3\u001b[0m \u001b[38;5;28;01mfrom\u001b[39;00m \u001b[38;5;21;01m.\u001b[39;00m\u001b[38;5;21;01mgeom_bar\u001b[39;00m \u001b[38;5;28;01mimport\u001b[39;00m geom_bar\n",
      "File \u001b[0;32m~/anaconda3/lib/python3.11/site-packages/ggplot/geoms/geom_abline.py:1\u001b[0m\n\u001b[0;32m----> 1\u001b[0m \u001b[38;5;28;01mfrom\u001b[39;00m \u001b[38;5;21;01m.\u001b[39;00m\u001b[38;5;21;01mgeom\u001b[39;00m \u001b[38;5;28;01mimport\u001b[39;00m geom\n\u001b[1;32m      3\u001b[0m \u001b[38;5;28;01mclass\u001b[39;00m \u001b[38;5;21;01mgeom_abline\u001b[39;00m(geom):\n\u001b[1;32m      4\u001b[0m \u001b[38;5;250m    \u001b[39m\u001b[38;5;124;03m\"\"\"\u001b[39;00m\n\u001b[1;32m      5\u001b[0m \u001b[38;5;124;03m    Line specified by slope and intercept\u001b[39;00m\n\u001b[1;32m      6\u001b[0m \n\u001b[0;32m   (...)\u001b[0m\n\u001b[1;32m     23\u001b[0m \u001b[38;5;124;03m    --------\u001b[39;00m\n\u001b[1;32m     24\u001b[0m \u001b[38;5;124;03m    \"\"\"\u001b[39;00m\n",
      "File \u001b[0;32m~/anaconda3/lib/python3.11/site-packages/ggplot/geoms/geom.py:3\u001b[0m\n\u001b[1;32m      1\u001b[0m \u001b[38;5;28;01mfrom\u001b[39;00m \u001b[38;5;21;01m__future__\u001b[39;00m \u001b[38;5;28;01mimport\u001b[39;00m (absolute_import, division, print_function,\n\u001b[1;32m      2\u001b[0m                         unicode_literals)\n\u001b[0;32m----> 3\u001b[0m \u001b[38;5;28;01mfrom\u001b[39;00m \u001b[38;5;21;01m.\u001b[39;00m\u001b[38;5;21;01m.\u001b[39;00m\u001b[38;5;21;01mggplot\u001b[39;00m \u001b[38;5;28;01mimport\u001b[39;00m ggplot\n\u001b[1;32m      4\u001b[0m \u001b[38;5;28;01mfrom\u001b[39;00m \u001b[38;5;21;01m.\u001b[39;00m\u001b[38;5;21;01m.\u001b[39;00m\u001b[38;5;21;01maes\u001b[39;00m \u001b[38;5;28;01mimport\u001b[39;00m aes\n\u001b[1;32m      6\u001b[0m \u001b[38;5;28;01mclass\u001b[39;00m \u001b[38;5;21;01mgeom\u001b[39;00m(\u001b[38;5;28mobject\u001b[39m):\n",
      "File \u001b[0;32m~/anaconda3/lib/python3.11/site-packages/ggplot/ggplot.py:13\u001b[0m\n\u001b[1;32m     10\u001b[0m \u001b[38;5;28;01mimport\u001b[39;00m \u001b[38;5;21;01mpandas\u001b[39;00m \u001b[38;5;28;01mas\u001b[39;00m \u001b[38;5;21;01mpd\u001b[39;00m\n\u001b[1;32m     11\u001b[0m \u001b[38;5;28;01mimport\u001b[39;00m \u001b[38;5;21;01mwarnings\u001b[39;00m\n\u001b[0;32m---> 13\u001b[0m \u001b[38;5;28;01mfrom\u001b[39;00m \u001b[38;5;21;01m.\u001b[39;00m\u001b[38;5;21;01maes\u001b[39;00m \u001b[38;5;28;01mimport\u001b[39;00m aes\n\u001b[1;32m     14\u001b[0m \u001b[38;5;28;01mfrom\u001b[39;00m \u001b[38;5;21;01m.\u001b[39;00m\u001b[38;5;21;01mlegend\u001b[39;00m \u001b[38;5;28;01mimport\u001b[39;00m make_legend\n\u001b[1;32m     15\u001b[0m \u001b[38;5;28;01mfrom\u001b[39;00m \u001b[38;5;21;01m.\u001b[39;00m\u001b[38;5;21;01mthemes\u001b[39;00m \u001b[38;5;28;01mimport\u001b[39;00m theme_gray\n",
      "File \u001b[0;32m~/anaconda3/lib/python3.11/site-packages/ggplot/aes.py:11\u001b[0m\n\u001b[1;32m      7\u001b[0m \u001b[38;5;28;01mimport\u001b[39;00m \u001b[38;5;21;01mdifflib\u001b[39;00m\n\u001b[1;32m      9\u001b[0m \u001b[38;5;28;01mfrom\u001b[39;00m \u001b[38;5;21;01mpatsy\u001b[39;00m\u001b[38;5;21;01m.\u001b[39;00m\u001b[38;5;21;01meval\u001b[39;00m \u001b[38;5;28;01mimport\u001b[39;00m EvalEnvironment\n\u001b[0;32m---> 11\u001b[0m \u001b[38;5;28;01mfrom\u001b[39;00m \u001b[38;5;21;01m.\u001b[39;00m \u001b[38;5;28;01mimport\u001b[39;00m utils\n\u001b[1;32m     13\u001b[0m \u001b[38;5;28;01mimport\u001b[39;00m \u001b[38;5;21;01mnumpy\u001b[39;00m \u001b[38;5;28;01mas\u001b[39;00m \u001b[38;5;21;01mnp\u001b[39;00m\n\u001b[1;32m     14\u001b[0m \u001b[38;5;28;01mimport\u001b[39;00m \u001b[38;5;21;01mpandas\u001b[39;00m \u001b[38;5;28;01mas\u001b[39;00m \u001b[38;5;21;01mpd\u001b[39;00m\n",
      "File \u001b[0;32m~/anaconda3/lib/python3.11/site-packages/ggplot/utils.py:81\u001b[0m\n\u001b[1;32m     77\u001b[0m     \u001b[38;5;28;01mexcept\u001b[39;00m:\n\u001b[1;32m     78\u001b[0m         \u001b[38;5;28;01mreturn\u001b[39;00m \u001b[38;5;28;01mFalse\u001b[39;00m\n\u001b[1;32m     80\u001b[0m date_types \u001b[38;5;241m=\u001b[39m (\n\u001b[0;32m---> 81\u001b[0m     pd\u001b[38;5;241m.\u001b[39mtslib\u001b[38;5;241m.\u001b[39mTimestamp,\n\u001b[1;32m     82\u001b[0m     pd\u001b[38;5;241m.\u001b[39mDatetimeIndex,\n\u001b[1;32m     83\u001b[0m     pd\u001b[38;5;241m.\u001b[39mPeriod,\n\u001b[1;32m     84\u001b[0m     pd\u001b[38;5;241m.\u001b[39mPeriodIndex,\n\u001b[1;32m     85\u001b[0m     datetime\u001b[38;5;241m.\u001b[39mdatetime,\n\u001b[1;32m     86\u001b[0m     datetime\u001b[38;5;241m.\u001b[39mtime\n\u001b[1;32m     87\u001b[0m )\n\u001b[1;32m     89\u001b[0m \u001b[38;5;28;01mdef\u001b[39;00m \u001b[38;5;21mis_date\u001b[39m(x):\n\u001b[1;32m     90\u001b[0m     \u001b[38;5;28;01mreturn\u001b[39;00m \u001b[38;5;28misinstance\u001b[39m(x, date_types)\n",
      "\u001b[0;31mAttributeError\u001b[0m: module 'pandas' has no attribute 'tslib'"
     ]
    }
   ],
   "source": [
    "# Run these imports.\n",
    "import warnings\n",
    "warnings.simplefilter(action='ignore', category=FutureWarning)\n",
    "\n",
    "\n",
    "%matplotlib inline\n",
    "import pandas as pd\n",
    "from ggplot import *"
   ]
  },
  {
   "cell_type": "markdown",
   "metadata": {},
   "source": [
    "\n",
    "## STEP 1: graphing course evaluation data\n",
    "Data is in: [data/course-evals.csv](../data/viz/course-evals.csv)\n",
    "\n",
    "<img src=../assets/images/9.3a-ggplot.png style=\"border: 5px solid grey ; max-width:100%;\" />\n",
    "\n",
    "```\n",
    "  q1: The instructor was well prepared.\n",
    "  q2: The instructor communicated well.\n",
    "  q3: The course materials were helpful.\n",
    "  q4: Overall, I found this workshop useful.\n",
    "```\n",
    "\n",
    "  Each questions (q1 - q4) will have an answer 1 - 5\n",
    "  (1 - strongly disagree /   5 - strongly agree)\n",
    " "
   ]
  },
  {
   "cell_type": "markdown",
   "metadata": {},
   "source": [
    "\n",
    "## STEP 2: read this data and examine it\n",
    "Hint: `pd.read_csv` \n",
    "\n",
    "\n",
    "```python\n",
    "import pandas as pd\n",
    "evals = pd.read_csv(\"https://elephantscale-public.s3.amazonaws.com/data/viz/course-evals.csv\", header=TRUE)\n",
    "evals\n",
    "```"
   ]
  },
  {
   "cell_type": "code",
   "execution_count": null,
   "metadata": {},
   "outputs": [],
   "source": [
    "# TODO: Examine data"
   ]
  },
  {
   "cell_type": "code",
   "execution_count": null,
   "metadata": {},
   "outputs": [],
   "source": [
    "# TODO: get rid of NAs in data\n",
    "evals_clean = evals.???\n",
    "evals_clea"
   ]
  },
  {
   "cell_type": "markdown",
   "metadata": {},
   "source": [
    "## STEP 3) plot frequency distribution of workshops\n",
    "Hint:\n",
    "```python\n",
    "import ggplot\n",
    "\n",
    "ggplot(??? ,    # data goes here (evals_clean)\n",
    "       aes(x=???)) +   # x = workshop\n",
    "       geom_bar()\n",
    ")\n",
    "```"
   ]
  },
  {
   "cell_type": "markdown",
   "metadata": {
    "collapsed": true,
    "jupyter": {
     "outputs_hidden": true
    }
   },
   "source": [
    "\n",
    "## STEP 4) Gender distribution\n",
    "Let's also add gender distribution to the above graph\n",
    "```python\n",
    "ggplot(??? ,    # data goes here (evals.clean)\n",
    "       aes(x=???,  fill=???)) +   # x = workshop,  fill=gender\n",
    "       geom_bar()\n",
    "```\n",
    "\n",
    "Expect a graph like this:\n",
    "\n",
    "<img src=\"../assets/images/9.3b-ggplot.png\" style=\"border: 5px solid grey ; max-width:100%;\" />\n"
   ]
  },
  {
   "cell_type": "code",
   "execution_count": null,
   "metadata": {},
   "outputs": [],
   "source": [
    "#TODO:"
   ]
  },
  {
   "cell_type": "markdown",
   "metadata": {},
   "source": [
    "\n",
    "## Step 5: Stacked graphs\n",
    "The layout of stacked graphs are controlled by `geom_bar(position=???)` parameter.\n",
    "Try the following\n",
    "- `position=fill`\n",
    "- `position=stack`\n",
    "- `position=dodge`\n",
    "\n",
    "Which one do you prefer?\n",
    "\n",
    "example:\n",
    "```python\n",
    "ggplot(??? ,    # data goes here (evals.clean)\n",
    "       aes(x=???,  fill=???)) +   # x = workshop,  fill=gender\n",
    "       geom_bar(position=\"fill\")\n",
    "```\n",
    "\n",
    "<img src=\"../assets/images/9.3c-ggplot.png\" style=\"border: 5px solid grey ; max-width:100%;\" />\n",
    "\n",
    "\n"
   ]
  },
  {
   "cell_type": "code",
   "execution_count": null,
   "metadata": {},
   "outputs": [],
   "source": [
    "#TODO:\n",
    "    "
   ]
  },
  {
   "cell_type": "markdown",
   "metadata": {},
   "source": [
    "\n",
    "## Step 6: Box plot\n",
    "See test scores (posttest) per workshop\n",
    "\n",
    "```python\n",
    "ggpplot (evals.clean\n",
    "    aes(x=???, y=???)) +   # x=workshop,   y=posttest\n",
    "    geom_boxplot()\n",
    "```\n",
    "\n",
    "### Add some color\n",
    "Modify `geom_box(color=\"red\", fill=\"orange\")`\n",
    "\n",
    "\n"
   ]
  },
  {
   "cell_type": "code",
   "execution_count": null,
   "metadata": {},
   "outputs": [],
   "source": [
    "# TODO:"
   ]
  },
  {
   "cell_type": "markdown",
   "metadata": {},
   "source": [
    "\n",
    "### Pre and Post test in one graph\n",
    "\n",
    "```python\n",
    "# pre and post scores\n",
    "g = ggplot(evals_clean, aes(x=workshop, y=posttest)) + geom_boxplot(color=\"red\")\n",
    "g\n",
    "g = g + geom_boxplot(aes(x=workshop, y=pretest), color=\"blue\")\n",
    "g\n",
    "\n",
    "```\n"
   ]
  },
  {
   "cell_type": "code",
   "execution_count": null,
   "metadata": {},
   "outputs": [],
   "source": [
    "# TODO:"
   ]
  },
  {
   "cell_type": "markdown",
   "metadata": {},
   "source": [
    "\n",
    "### Add gender bias to scores\n",
    "done by `fill=gender`\n",
    "```python\n",
    "ggplot(evals.clean, aes(x=workshop, y=posttest, fill=gender)) + geom_boxplot()\n",
    "```\n",
    "<img src=\"../assets/images/9.3d-ggplot.png\" style=\"border: 5px solid grey ; max-width:100%;\" />"
   ]
  },
  {
   "cell_type": "code",
   "execution_count": null,
   "metadata": {
    "collapsed": true,
    "jupyter": {
     "outputs_hidden": true
    }
   },
   "outputs": [],
   "source": []
  },
  {
   "cell_type": "markdown",
   "metadata": {},
   "source": [
    "## Step 7 : Distribution curve\n",
    "Let's see how the scores are distributed\n",
    "\n",
    "```python\n",
    "ggplot(evals.clean, aes(x=posttest)) + geom_density()\n",
    "```\n",
    "\n",
    "<img src=\"../assets/images/9.3e-ggplot.png\" style=\"border: 5px solid grey ; max-width:100%;\" />"
   ]
  },
  {
   "cell_type": "code",
   "execution_count": null,
   "metadata": {},
   "outputs": [],
   "source": [
    "# TODO:\n"
   ]
  }
 ],
 "metadata": {
  "kernelspec": {
   "display_name": "Python 3 (ipykernel)",
   "language": "python",
   "name": "python3"
  },
  "language_info": {
   "codemirror_mode": {
    "name": "ipython",
    "version": 3
   },
   "file_extension": ".py",
   "mimetype": "text/x-python",
   "name": "python",
   "nbconvert_exporter": "python",
   "pygments_lexer": "ipython3",
   "version": "3.11.7"
  }
 },
 "nbformat": 4,
 "nbformat_minor": 4
}
