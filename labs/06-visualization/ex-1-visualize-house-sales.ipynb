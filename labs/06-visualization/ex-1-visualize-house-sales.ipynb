{
 "cells": [
  {
   "cell_type": "markdown",
   "metadata": {
    "colab_type": "text",
    "id": "39fgP8MYrCeV"
   },
   "source": [
    "# Visualize House Sales Data\n",
    "\n",
    "Let's use pandas and matplotlib to help us to visualize sales data."
   ]
  },
  {
   "cell_type": "code",
   "execution_count": 1,
   "metadata": {
    "colab": {
     "base_uri": "https://localhost:8080/",
     "height": 72
    },
    "colab_type": "code",
    "id": "Ov5-s-_HrCeW",
    "outputId": "5121ae32-c475-4c5d-c4e7-1610ecfbbbd9"
   },
   "outputs": [],
   "source": [
    "%matplotlib inline\n",
    "\n",
    "import numpy as np\n",
    "import pandas as pd\n",
    "import matplotlib.pyplot as plt\n",
    "import seaborn as sns \n",
    "\n",
    "pd.options.display.float_format = '{:,.2f}'.format"
   ]
  },
  {
   "cell_type": "markdown",
   "metadata": {
    "colab_type": "text",
    "id": "8elItS6DrCea"
   },
   "source": [
    "## Read and Display data"
   ]
  },
  {
   "cell_type": "code",
   "execution_count": 2,
   "metadata": {
    "colab": {
     "base_uri": "https://localhost:8080/",
     "height": 407
    },
    "colab_type": "code",
    "id": "Q1KSNsnTrCea",
    "outputId": "8f2a89ca-eba5-4666-b548-4e61719f88b7"
   },
   "outputs": [
    {
     "name": "stdout",
     "output_type": "stream",
     "text": [
      "data_location : ../data/house-sales-simplified.csv\n"
     ]
    }
   ],
   "source": [
    "import os\n",
    "import urllib.request\n",
    "\n",
    "data_location = \"../data/house-sales-simplified.csv\"\n",
    "# data_url = 'https://raw.githubusercontent.com/elephantscale/datasets/master/house-prices/house-sales-simplified.csv'\n",
    "\n",
    "if not os.path.exists (data_location):\n",
    "    data_location = os.path.basename(data_location)\n",
    "    if not os.path.exists(data_location):\n",
    "        urllib.request.urlretrieve(data_url, data_location)\n",
    "        print ('Downloading : ', data_url)\n",
    "print('data_location :', data_location)  "
   ]
  },
  {
   "cell_type": "code",
   "execution_count": 3,
   "metadata": {},
   "outputs": [
    {
     "data": {
      "text/html": [
       "<div>\n",
       "<style scoped>\n",
       "    .dataframe tbody tr th:only-of-type {\n",
       "        vertical-align: middle;\n",
       "    }\n",
       "\n",
       "    .dataframe tbody tr th {\n",
       "        vertical-align: top;\n",
       "    }\n",
       "\n",
       "    .dataframe thead th {\n",
       "        text-align: right;\n",
       "    }\n",
       "</style>\n",
       "<table border=\"1\" class=\"dataframe\">\n",
       "  <thead>\n",
       "    <tr style=\"text-align: right;\">\n",
       "      <th></th>\n",
       "      <th>ID</th>\n",
       "      <th>Date</th>\n",
       "      <th>SalePrice</th>\n",
       "      <th>PropertyID</th>\n",
       "      <th>PropertyType</th>\n",
       "      <th>Bedrooms</th>\n",
       "      <th>Bathrooms</th>\n",
       "      <th>SqFtTotLiving</th>\n",
       "      <th>SqFtLot</th>\n",
       "      <th>YrBuilt</th>\n",
       "      <th>ZipCode</th>\n",
       "    </tr>\n",
       "  </thead>\n",
       "  <tbody>\n",
       "    <tr>\n",
       "      <th>0</th>\n",
       "      <td>1</td>\n",
       "      <td>9/16/14</td>\n",
       "      <td>280000</td>\n",
       "      <td>1000102</td>\n",
       "      <td>Multiplex</td>\n",
       "      <td>6</td>\n",
       "      <td>3.00</td>\n",
       "      <td>2400</td>\n",
       "      <td>9373</td>\n",
       "      <td>1991</td>\n",
       "      <td>98002</td>\n",
       "    </tr>\n",
       "    <tr>\n",
       "      <th>1</th>\n",
       "      <td>2</td>\n",
       "      <td>6/16/06</td>\n",
       "      <td>1000000</td>\n",
       "      <td>1200013</td>\n",
       "      <td>Single Family</td>\n",
       "      <td>4</td>\n",
       "      <td>3.75</td>\n",
       "      <td>3764</td>\n",
       "      <td>20156</td>\n",
       "      <td>2005</td>\n",
       "      <td>98166</td>\n",
       "    </tr>\n",
       "    <tr>\n",
       "      <th>2</th>\n",
       "      <td>3</td>\n",
       "      <td>1/29/07</td>\n",
       "      <td>745000</td>\n",
       "      <td>1200019</td>\n",
       "      <td>Single Family</td>\n",
       "      <td>4</td>\n",
       "      <td>1.75</td>\n",
       "      <td>2060</td>\n",
       "      <td>26036</td>\n",
       "      <td>1947</td>\n",
       "      <td>98166</td>\n",
       "    </tr>\n",
       "    <tr>\n",
       "      <th>3</th>\n",
       "      <td>4</td>\n",
       "      <td>2/25/08</td>\n",
       "      <td>425000</td>\n",
       "      <td>2800016</td>\n",
       "      <td>Single Family</td>\n",
       "      <td>5</td>\n",
       "      <td>3.75</td>\n",
       "      <td>3200</td>\n",
       "      <td>8618</td>\n",
       "      <td>1966</td>\n",
       "      <td>98168</td>\n",
       "    </tr>\n",
       "    <tr>\n",
       "      <th>4</th>\n",
       "      <td>5</td>\n",
       "      <td>3/29/13</td>\n",
       "      <td>240000</td>\n",
       "      <td>2800024</td>\n",
       "      <td>Single Family</td>\n",
       "      <td>4</td>\n",
       "      <td>1.75</td>\n",
       "      <td>1720</td>\n",
       "      <td>8620</td>\n",
       "      <td>1948</td>\n",
       "      <td>98168</td>\n",
       "    </tr>\n",
       "    <tr>\n",
       "      <th>...</th>\n",
       "      <td>...</td>\n",
       "      <td>...</td>\n",
       "      <td>...</td>\n",
       "      <td>...</td>\n",
       "      <td>...</td>\n",
       "      <td>...</td>\n",
       "      <td>...</td>\n",
       "      <td>...</td>\n",
       "      <td>...</td>\n",
       "      <td>...</td>\n",
       "      <td>...</td>\n",
       "    </tr>\n",
       "    <tr>\n",
       "      <th>27058</th>\n",
       "      <td>27059</td>\n",
       "      <td>10/31/12</td>\n",
       "      <td>374000</td>\n",
       "      <td>9895000030</td>\n",
       "      <td>Townhouse</td>\n",
       "      <td>2</td>\n",
       "      <td>1.75</td>\n",
       "      <td>1410</td>\n",
       "      <td>1161</td>\n",
       "      <td>2011</td>\n",
       "      <td>-1</td>\n",
       "    </tr>\n",
       "    <tr>\n",
       "      <th>27059</th>\n",
       "      <td>27060</td>\n",
       "      <td>12/7/12</td>\n",
       "      <td>374000</td>\n",
       "      <td>9895000040</td>\n",
       "      <td>Townhouse</td>\n",
       "      <td>2</td>\n",
       "      <td>1.75</td>\n",
       "      <td>1410</td>\n",
       "      <td>1005</td>\n",
       "      <td>2011</td>\n",
       "      <td>-1</td>\n",
       "    </tr>\n",
       "    <tr>\n",
       "      <th>27060</th>\n",
       "      <td>27061</td>\n",
       "      <td>7/9/12</td>\n",
       "      <td>165000</td>\n",
       "      <td>9899200010</td>\n",
       "      <td>Single Family</td>\n",
       "      <td>4</td>\n",
       "      <td>1.00</td>\n",
       "      <td>1070</td>\n",
       "      <td>11170</td>\n",
       "      <td>1971</td>\n",
       "      <td>98055</td>\n",
       "    </tr>\n",
       "    <tr>\n",
       "      <th>27061</th>\n",
       "      <td>27062</td>\n",
       "      <td>5/26/06</td>\n",
       "      <td>315000</td>\n",
       "      <td>9900000355</td>\n",
       "      <td>Single Family</td>\n",
       "      <td>3</td>\n",
       "      <td>2.00</td>\n",
       "      <td>1345</td>\n",
       "      <td>6223</td>\n",
       "      <td>1939</td>\n",
       "      <td>98166</td>\n",
       "    </tr>\n",
       "    <tr>\n",
       "      <th>27062</th>\n",
       "      <td>27063</td>\n",
       "      <td>1/9/07</td>\n",
       "      <td>465000</td>\n",
       "      <td>9906000035</td>\n",
       "      <td>Single Family</td>\n",
       "      <td>3</td>\n",
       "      <td>1.50</td>\n",
       "      <td>790</td>\n",
       "      <td>4400</td>\n",
       "      <td>1928</td>\n",
       "      <td>98103</td>\n",
       "    </tr>\n",
       "  </tbody>\n",
       "</table>\n",
       "<p>27063 rows × 11 columns</p>\n",
       "</div>"
      ],
      "text/plain": [
       "          ID      Date  SalePrice  PropertyID   PropertyType  Bedrooms  \\\n",
       "0          1   9/16/14     280000     1000102      Multiplex         6   \n",
       "1          2   6/16/06    1000000     1200013  Single Family         4   \n",
       "2          3   1/29/07     745000     1200019  Single Family         4   \n",
       "3          4   2/25/08     425000     2800016  Single Family         5   \n",
       "4          5   3/29/13     240000     2800024  Single Family         4   \n",
       "...      ...       ...        ...         ...            ...       ...   \n",
       "27058  27059  10/31/12     374000  9895000030      Townhouse         2   \n",
       "27059  27060   12/7/12     374000  9895000040      Townhouse         2   \n",
       "27060  27061    7/9/12     165000  9899200010  Single Family         4   \n",
       "27061  27062   5/26/06     315000  9900000355  Single Family         3   \n",
       "27062  27063    1/9/07     465000  9906000035  Single Family         3   \n",
       "\n",
       "       Bathrooms  SqFtTotLiving  SqFtLot  YrBuilt  ZipCode  \n",
       "0           3.00           2400     9373     1991    98002  \n",
       "1           3.75           3764    20156     2005    98166  \n",
       "2           1.75           2060    26036     1947    98166  \n",
       "3           3.75           3200     8618     1966    98168  \n",
       "4           1.75           1720     8620     1948    98168  \n",
       "...          ...            ...      ...      ...      ...  \n",
       "27058       1.75           1410     1161     2011       -1  \n",
       "27059       1.75           1410     1005     2011       -1  \n",
       "27060       1.00           1070    11170     1971    98055  \n",
       "27061       2.00           1345     6223     1939    98166  \n",
       "27062       1.50            790     4400     1928    98103  \n",
       "\n",
       "[27063 rows x 11 columns]"
      ]
     },
     "execution_count": 3,
     "metadata": {},
     "output_type": "execute_result"
    }
   ],
   "source": [
    "house_prices = pd.read_csv(data_location)\n",
    "house_prices"
   ]
  },
  {
   "cell_type": "markdown",
   "metadata": {
    "colab_type": "text",
    "id": "yoKsnmdFrCed"
   },
   "source": [
    "## 'Summary' of data"
   ]
  },
  {
   "cell_type": "code",
   "execution_count": 4,
   "metadata": {
    "colab": {
     "base_uri": "https://localhost:8080/",
     "height": 288
    },
    "colab_type": "code",
    "id": "Af_NRAyhrCee",
    "outputId": "8c484424-069c-47de-8d7c-3b7f444b72c3"
   },
   "outputs": [
    {
     "ename": "SyntaxError",
     "evalue": "invalid syntax (1854841914.py, line 3)",
     "output_type": "error",
     "traceback": [
      "\u001b[0;36m  Cell \u001b[0;32mIn[4], line 3\u001b[0;36m\u001b[0m\n\u001b[0;31m    house_prices.???()\u001b[0m\n\u001b[0m                 ^\u001b[0m\n\u001b[0;31mSyntaxError\u001b[0m\u001b[0;31m:\u001b[0m invalid syntax\n"
     ]
    }
   ],
   "source": [
    "## TODO : use describe to get an idea of the data\n",
    "## Hint : 'describe' \n",
    "house_prices.???()"
   ]
  },
  {
   "cell_type": "markdown",
   "metadata": {},
   "source": [
    "## Pair Plot\n",
    "\n",
    "Try this plot.\n",
    "\n",
    "Can you make sense of it? :-) "
   ]
  },
  {
   "cell_type": "code",
   "execution_count": null,
   "metadata": {},
   "outputs": [],
   "source": [
    "## TODO : Do a 'pairplot' to see patterns\n",
    "\n",
    "# let's remove 'ID' and 'PropertyID' columns as they don't add any value\n",
    "sns.???(house_prices.drop(columns = ['ID', 'PropertyID']))\n",
    "plt.show()"
   ]
  },
  {
   "cell_type": "markdown",
   "metadata": {
    "colab_type": "text",
    "id": "44OaKAUdrCeg"
   },
   "source": [
    "## Histogram / Frequency Plot\n",
    "Create a frequency table & histogram plot based on number of bedrooms"
   ]
  },
  {
   "cell_type": "code",
   "execution_count": null,
   "metadata": {
    "colab": {
     "base_uri": "https://localhost:8080/",
     "height": 276
    },
    "colab_type": "code",
    "id": "kTEwKjOmrCeh",
    "outputId": "6eeaba04-d7a1-4b5b-fc0e-9c5f62bb5971"
   },
   "outputs": [],
   "source": [
    "## calculate a frequency count\n",
    "## Hint : group by 'Bedrooms'\n",
    "freq_count = house_prices.groupby(\"Bedrooms\").size()\n",
    "freq_count"
   ]
  },
  {
   "cell_type": "code",
   "execution_count": null,
   "metadata": {
    "colab": {
     "base_uri": "https://localhost:8080/",
     "height": 296
    },
    "colab_type": "code",
    "id": "RtZvw4owrCej",
    "outputId": "03e26b38-ce53-418c-9cc9-ef2c306a8006"
   },
   "outputs": [],
   "source": [
    "## TODO : countplot\n",
    "## Hint : data=house_prices,   x='Bedrooms'\n",
    "\n",
    "sns.countplot(data=???, x=\"???\")"
   ]
  },
  {
   "cell_type": "code",
   "execution_count": null,
   "metadata": {},
   "outputs": [],
   "source": [
    "sns.countplot(data=???, x=\"???\")"
   ]
  },
  {
   "cell_type": "markdown",
   "metadata": {
    "colab_type": "text",
    "id": "da3Jh8e0rCem"
   },
   "source": [
    "## Create a BoxPlot on sale prices \n",
    "Sale prices per property type  (Single Family, Townhouse)"
   ]
  },
  {
   "cell_type": "code",
   "execution_count": null,
   "metadata": {
    "colab": {
     "base_uri": "https://localhost:8080/",
     "height": 307
    },
    "colab_type": "code",
    "id": "BdCkl60brCem",
    "outputId": "ec68c766-9f23-4d95-ea72-c97810e241fd"
   },
   "outputs": [],
   "source": [
    "## TODO : data=price_by_property_type\n",
    "## Hint : data=house_prices. X='PropertyType', y='SalePrice'\n",
    "sns.boxplot(data=???, x=\"???\", y=\"???\")"
   ]
  },
  {
   "cell_type": "markdown",
   "metadata": {
    "colab_type": "text",
    "id": "5DXJzOQprCeq"
   },
   "source": [
    "## Bonus Lab : Improving our plot\n",
    "Our plot data is pretty 'squished'  Let's see if we can improve it.  \n",
    "Some of the outliers (like the 33 bedroom house is messing up the display).  \n",
    "Let's remove the outliers."
   ]
  },
  {
   "cell_type": "code",
   "execution_count": null,
   "metadata": {
    "colab": {
     "base_uri": "https://localhost:8080/",
     "height": 35
    },
    "colab_type": "code",
    "id": "uF9cs9e8rCeq",
    "outputId": "676e10ac-a113-4839-b3ed-025c10652594"
   },
   "outputs": [],
   "source": [
    "## We are going to remove 10% off the data from the bottom and top\n",
    "\n",
    "## first calculate 10%  and 90% prices\n",
    "## Hint : supply the right parameters for quantile (10% --> 0.1,  90% --> 0.9)\n",
    "ten_ninety = house_prices.SalePrice.quantile([.1, .9])\n",
    "\n",
    "## extract 10% and 90% into variables\n",
    "ten_percent_price = int(house_prices.SalePrice.quantile(.1))\n",
    "ninety_percent_price = int(house_prices.SalePrice.quantile(.9))\n",
    "print(\"10% price=\", ten_percent_price,  \", 90% price=\", ninety_percent_price)"
   ]
  },
  {
   "cell_type": "code",
   "execution_count": null,
   "metadata": {
    "colab": {
     "base_uri": "https://localhost:8080/",
     "height": 86
    },
    "colab_type": "code",
    "id": "PzMJm8sZrCet",
    "outputId": "b867db82-417e-4eca-c353-17d0d8ea0cad"
   },
   "outputs": [],
   "source": [
    "## filter out below 10% and above 90%\n",
    "print(\"total sales \", house_prices.shape[0])\n",
    "\n",
    "## filter prices above 10%  (hint : ten_percent_price)\n",
    "above_ten = house_prices[house_prices[\"SalePrice\"] >= ten_percent_price]\n",
    "print(\"above 10% \" , above_ten.shape[0])\n",
    "\n",
    "## filter prices below 90%  (hint : <= ninety_percent_price)\n",
    "below_ninety  = house_prices[house_prices[\"SalePrice\"] <= ninety_percent_price]\n",
    "print(\"below 90% \", below_ninety.shape[0])\n",
    "## filter above 10% and below 90% in one query\n",
    "above_ten_below_ninety = house_prices.loc[(house_prices['SalePrice'] >= ten_percent_price) & (house_prices['SalePrice'] <=  ninety_percent_price)]\n",
    "print(\"between 10% and 90% = {:,}\".format(above_ten_below_ninety.shape[0]))"
   ]
  },
  {
   "cell_type": "code",
   "execution_count": null,
   "metadata": {
    "colab": {
     "base_uri": "https://localhost:8080/",
     "height": 296
    },
    "colab_type": "code",
    "id": "2s334AADrCev",
    "outputId": "25499c89-38f8-42ea-f047-c26bc646cd99"
   },
   "outputs": [],
   "source": [
    "## TODO: do the same plot again\n",
    "## Hint : data=above_ten_below_ninety\n",
    "sns.boxplot(data=above_ten_below_ninety, x=\"PropertyType\", y=\"SalePrice\",  )"
   ]
  },
  {
   "cell_type": "code",
   "execution_count": null,
   "metadata": {},
   "outputs": [],
   "source": [
    "## TODO : try a violin plot\n",
    "\n",
    "sns.???(data=above_ten_below_ninety, x=\"PropertyType\", y=\"SalePrice\",  )"
   ]
  },
  {
   "cell_type": "markdown",
   "metadata": {
    "colab_type": "text",
    "id": "g0Ykkm2crCex"
   },
   "source": [
    "## Any other plots?\n",
    "Look at [MatplotLib Examples](https://matplotlib.org/gallery.html).\n",
    "If any of them inspire you try to create a graph like that!\n",
    "And do show it off to the class  :-)"
   ]
  }
 ],
 "metadata": {
  "colab": {
   "collapsed_sections": [],
   "name": "3-visualize-house-sales.ipynb",
   "provenance": []
  },
  "kernelspec": {
   "display_name": "Python 3 (ipykernel)",
   "language": "python",
   "name": "python3"
  },
  "language_info": {
   "codemirror_mode": {
    "name": "ipython",
    "version": 3
   },
   "file_extension": ".py",
   "mimetype": "text/x-python",
   "name": "python",
   "nbconvert_exporter": "python",
   "pygments_lexer": "ipython3",
   "version": "3.11.7"
  }
 },
 "nbformat": 4,
 "nbformat_minor": 4
}
